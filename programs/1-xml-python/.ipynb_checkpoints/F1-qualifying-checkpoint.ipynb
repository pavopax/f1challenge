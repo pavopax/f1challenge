{
 "metadata": {
  "name": "",
  "signature": "sha256:d1aa8e5a10995b02ffd0b6dce8dc841c5fd0578d94f4d49812d62afd5774f330"
 },
 "nbformat": 3,
 "nbformat_minor": 0,
 "worksheets": [
  {
   "cells": [
    {
     "cell_type": "markdown",
     "metadata": {},
     "source": [
      "## parsing file F1_Qualifying.txt\n",
      "#### reference: notebook: intro-xml-to-python "
     ]
    },
    {
     "cell_type": "code",
     "collapsed": false,
     "input": [
      "import xml.etree.ElementTree as ET\n",
      "import csv\n",
      "from collections import OrderedDict\n",
      "# regexps\n",
      "import re"
     ],
     "language": "python",
     "metadata": {},
     "outputs": [],
     "prompt_number": 1
    },
    {
     "cell_type": "code",
     "collapsed": false,
     "input": [
      "homedir = '/Users/pawel/github/f1challenge'\n",
      "print homedir"
     ],
     "language": "python",
     "metadata": {},
     "outputs": [
      {
       "output_type": "stream",
       "stream": "stdout",
       "text": [
        "/Users/pawel/github/f1challenge\n"
       ]
      }
     ],
     "prompt_number": 3
    },
    {
     "cell_type": "code",
     "collapsed": false,
     "input": [],
     "language": "python",
     "metadata": {},
     "outputs": [],
     "prompt_number": 11
    },
    {
     "cell_type": "markdown",
     "metadata": {},
     "source": [
      "### save (print) cell status updates"
     ]
    },
    {
     "cell_type": "code",
     "collapsed": false,
     "input": [
      "# (A) no line #\n",
      "f1qual = open(homedir+'/data/F1_Qualifying.txt', 'r')\n",
      "with open(homedir+'/output/2-qual/qual_stats.txt', 'w') as f:\n",
      "    for line in f1qual:\n",
      "        if re.match(\"(.*)informationvalid(.*)\", line):\n",
      "            f.write(line)\n",
      "f1qual.close()"
     ],
     "language": "python",
     "metadata": {},
     "outputs": [],
     "prompt_number": 29
    },
    {
     "cell_type": "code",
     "collapsed": true,
     "input": [
      "# (B) with line #\n",
      "f1qual = open(homedir+'/data/F1_Qualifying.txt', 'r')\n",
      "with open(homedir+'/output/2-qual/qual_stats2.txt', 'w') as f:\n",
      "    for i, line in enumerate(f1qual):\n",
      "        if re.match(\"(.*)informationvalid(.*)\", line):\n",
      "            gab= str(i) + line\n",
      "            print gab\n",
      "            f.write(gab)\n",
      "f1qual.close()"
     ],
     "language": "python",
     "metadata": {},
     "outputs": [
      {
       "output_type": "stream",
       "stream": "stdout",
       "text": [
        "0<transaction identifier=\"101\" messagecount=\"63421\" timestamp=\"12:16:48.181\"><data informationvalid=\"true\" sessionstate=\"inactive\"/></transaction>\r\n",
        "\n",
        "445<transaction identifier=\"102\" messagecount=\"63866\" timestamp=\"12:16:48.224\"><data informationvalid=\"true\"/></transaction>\r\n",
        "\n",
        "504<transaction identifier=\"104\" messagecount=\"63926\" timestamp=\"12:16:48.247\"><data informationvalid=\"true\"/></transaction>\r\n",
        "\n",
        "509<transaction identifier=\"104\" messagecount=\"63930\" timestamp=\"12:20:07.243\"><data informationvalid=\"true\"/></transaction>\r\n",
        "\n",
        "510<transaction identifier=\"101\" messagecount=\"63930\" timestamp=\"12:20:07.258\"><data informationvalid=\"true\" sessionstate=\"started\"/></transaction>\r\n",
        "\n",
        "511<transaction identifier=\"102\" messagecount=\"63930\" timestamp=\"12:20:07.261\"><data informationvalid=\"true\"/></transaction>\r\n",
        "\n",
        "1672<transaction identifier=\"104\" messagecount=\"66853\" timestamp=\"12:24:36.550\"><data informationvalid=\"true\"/></transaction>\r\n",
        "\n",
        "1673<transaction identifier=\"101\" messagecount=\"66853\" timestamp=\"12:24:36.563\"><data informationvalid=\"true\" sessionstate=\"aborted\"/></transaction>\r\n",
        "\n",
        "1674<transaction identifier=\"102\" messagecount=\"66853\" timestamp=\"12:24:36.566\"><data informationvalid=\"true\"/></transaction>\r\n",
        "\n",
        "2374<transaction identifier=\"104\" messagecount=\"68565\" timestamp=\"12:31:07.379\"><data informationvalid=\"true\"/></transaction>\r\n",
        "\n",
        "2375<transaction identifier=\"101\" messagecount=\"68565\" timestamp=\"12:31:07.393\"><data informationvalid=\"true\" sessionstate=\"started\"/></transaction>\r\n",
        "\n",
        "2376<transaction identifier=\"102\" messagecount=\"68565\" timestamp=\"12:31:07.395\"><data informationvalid=\"true\"/></transaction>\r\n",
        "\n",
        "7503<transaction identifier=\"104\" messagecount=\"78627\" timestamp=\"12:44:38.560\"><data informationvalid=\"true\"/></transaction>\r\n"
       ]
      },
      {
       "output_type": "stream",
       "stream": "stdout",
       "text": [
        "\n",
        "7504<transaction identifier=\"101\" messagecount=\"78627\" timestamp=\"12:44:38.573\"><data informationvalid=\"true\" sessionstate=\"finished\"/></transaction>\r\n",
        "\n",
        "7505<transaction identifier=\"102\" messagecount=\"78627\" timestamp=\"12:44:38.576\"><data informationvalid=\"true\"/></transaction>\r\n",
        "\n",
        "9053<transaction identifier=\"104\" messagecount=\"81173\" timestamp=\"12:50:15.689\"><data informationvalid=\"true\"/></transaction>\r\n",
        "\n",
        "9054<transaction identifier=\"101\" messagecount=\"81173\" timestamp=\"12:50:15.702\"><data informationvalid=\"true\" sessionstate=\"inactive\"/></transaction>\r\n",
        "\n",
        "9055<transaction identifier=\"102\" messagecount=\"81173\" timestamp=\"12:50:15.705\"><data informationvalid=\"true\"/></transaction>\r\n",
        "\n",
        "9231<transaction identifier=\"104\" messagecount=\"81616\" timestamp=\"12:52:07.347\"><data informationvalid=\"true\"/></transaction>\r\n",
        "\n",
        "9232<transaction identifier=\"101\" messagecount=\"81616\" timestamp=\"12:52:07.378\"><data informationvalid=\"true\" sessionstate=\"started\"/></transaction>\r\n",
        "\n",
        "9233<transaction identifier=\"102\" messagecount=\"81616\" timestamp=\"12:52:07.381\"><data informationvalid=\"true\"/></transaction>\r\n",
        "\n",
        "12776<transaction identifier=\"104\" messagecount=\"90236\" timestamp=\"13:07:07.476\"><data informationvalid=\"true\"/></transaction>\r\n",
        "\n",
        "12777<transaction identifier=\"101\" messagecount=\"90236\" timestamp=\"13:07:07.490\"><data informationvalid=\"true\" sessionstate=\"finished\"/></transaction>\r\n",
        "\n",
        "12778<transaction identifier=\"102\" messagecount=\"90236\" timestamp=\"13:07:07.493\"><data informationvalid=\"true\"/></transaction>\r\n",
        "\n",
        "13918<transaction identifier=\"104\" messagecount=\"92454\" timestamp=\"13:13:16.308\"><data informationvalid=\"true\"/></transaction>\r\n"
       ]
      },
      {
       "output_type": "stream",
       "stream": "stdout",
       "text": [
        "\n",
        "13919<transaction identifier=\"101\" messagecount=\"92454\" timestamp=\"13:13:16.322\"><data informationvalid=\"true\" sessionstate=\"inactive\"/></transaction>\r\n",
        "\n",
        "13920<transaction identifier=\"102\" messagecount=\"92454\" timestamp=\"13:13:16.324\"><data informationvalid=\"true\"/></transaction>\r\n",
        "\n",
        "14373<transaction identifier=\"104\" messagecount=\"93212\" timestamp=\"13:15:07.477\"><data informationvalid=\"true\"/></transaction>\r\n",
        "\n",
        "14374<transaction identifier=\"101\" messagecount=\"93212\" timestamp=\"13:15:07.490\"><data informationvalid=\"true\" sessionstate=\"started\"/></transaction>\r\n",
        "\n",
        "14375<transaction identifier=\"102\" messagecount=\"93212\" timestamp=\"13:15:07.493\"><data informationvalid=\"true\"/></transaction>\r\n",
        "\n",
        "14976<transaction identifier=\"104\" messagecount=\"95107\" timestamp=\"13:18:57.804\"><data informationvalid=\"true\"/></transaction>\r\n",
        "\n",
        "14977<transaction identifier=\"101\" messagecount=\"95107\" timestamp=\"13:18:57.818\"><data informationvalid=\"true\" sessionstate=\"aborted\"/></transaction>\r\n",
        "\n",
        "14978<transaction identifier=\"102\" messagecount=\"95107\" timestamp=\"13:18:57.821\"><data informationvalid=\"true\"/></transaction>\r\n",
        "\n",
        "15416<transaction identifier=\"104\" messagecount=\"96303\" timestamp=\"13:23:07.304\"><data informationvalid=\"true\"/></transaction>\r\n",
        "\n",
        "15417<transaction identifier=\"101\" messagecount=\"96303\" timestamp=\"13:23:07.318\"><data informationvalid=\"true\" sessionstate=\"started\"/></transaction>\r\n",
        "\n",
        "15418<transaction identifier=\"102\" messagecount=\"96303\" timestamp=\"13:23:07.321\"><data informationvalid=\"true\"/></transaction>\r\n",
        "\n",
        "16828<transaction identifier=\"104\" messagecount=\"100470\" timestamp=\"13:31:17.323\"><data informationvalid=\"true\"/></transaction>\r\n",
        "\n",
        "16829<transaction identifier=\"101\" messagecount=\"100470\" timestamp=\"13:31:17.337\"><data informationvalid=\"true\" sessionstate=\"finished\"/></transaction>\r\n",
        "\n",
        "16830<transaction identifier=\"102\" messagecount=\"100470\" timestamp=\"13:31:17.340\"><data informationvalid=\"true\"/></transaction>\r\n",
        "\n",
        "18648<transaction identifier=\"101\" messagecount=\"104064\" timestamp=\"14:03:33.665\"><data informationvalid=\"true\" sessionstate=\"finished\"/></transaction>\r\n",
        "\n",
        "19224<transaction identifier=\"102\" messagecount=\"104640\" timestamp=\"14:03:33.719\"><data informationvalid=\"true\"/></transaction>\r\n",
        "\n",
        "19284<transaction identifier=\"104\" messagecount=\"104701\" timestamp=\"14:03:33.737\"><data informationvalid=\"true\"/></transaction>\r\n",
        "\n"
       ]
      }
     ],
     "prompt_number": 32
    },
    {
     "cell_type": "markdown",
     "metadata": {},
     "source": [
      "## saving valid data (sessionstate = started)\n",
      "based on above, we'd like to save lines: <br>\n",
      "[512,1671] , [2377,7502], [9234, 12775], [14376, 14975], [15419, 16827]"
     ]
    },
    {
     "cell_type": "markdown",
     "metadata": {},
     "source": [
      "### test"
     ]
    },
    {
     "cell_type": "code",
     "collapsed": false,
     "input": [
      "def picklines(thefile, whatlines):\n",
      "    return[line for i, line in enumerate(thefile) if i in whatlines]"
     ],
     "language": "python",
     "metadata": {},
     "outputs": [],
     "prompt_number": 54
    },
    {
     "cell_type": "code",
     "collapsed": false,
     "input": [
      "lins = [0,1] + range(10,14)\n",
      "f1qual = open(homedir+'/data/F1_Qualifying.txt', 'r')\n",
      "\n",
      "picklines(f1qual, lins)"
     ],
     "language": "python",
     "metadata": {},
     "outputs": [
      {
       "metadata": {},
       "output_type": "pyout",
       "prompt_number": 55,
       "text": [
        "['<transaction identifier=\"101\" messagecount=\"63421\" timestamp=\"12:16:48.181\"><data informationvalid=\"true\" sessionstate=\"inactive\"/></transaction>\\r\\n',\n",
        " '<transaction identifier=\"101\" messagecount=\"63422\" timestamp=\"12:16:48.182\"><data column=\"1\" row=\"1\" colour=\"CYAN\" value=\"\"/></transaction>\\r\\n',\n",
        " '<transaction identifier=\"101\" messagecount=\"63431\" timestamp=\"12:16:48.182\"><data column=\"1\" row=\"10\" colour=\"CYAN\" value=\"\"/></transaction>\\r\\n',\n",
        " '<transaction identifier=\"101\" messagecount=\"63432\" timestamp=\"12:16:48.182\"><data column=\"1\" row=\"11\" colour=\"CYAN\" value=\"\"/></transaction>\\r\\n',\n",
        " '<transaction identifier=\"101\" messagecount=\"63433\" timestamp=\"12:16:48.182\"><data column=\"1\" row=\"12\" colour=\"CYAN\" value=\"\"/></transaction>\\r\\n',\n",
        " '<transaction identifier=\"101\" messagecount=\"63434\" timestamp=\"12:16:48.182\"><data column=\"1\" row=\"13\" colour=\"CYAN\" value=\"\"/></transaction>\\r\\n']"
       ]
      }
     ],
     "prompt_number": 55
    },
    {
     "cell_type": "markdown",
     "metadata": {},
     "source": [
      "### here"
     ]
    },
    {
     "cell_type": "code",
     "collapsed": false,
     "input": [
      "linsz = range(512,1671+1)+range(2377,7502+1)+range(9234, 12775+1)+range(14376, 14975+1)+range(15419, 16827+1)\n",
      "f1qual = open(homedir+'/data/F1_Qualifying.txt', 'r')\n",
      "with open(homedir+'/output/2-qual/qual_data.txt', 'w') as f:\n",
      "    # note plural writelineS\n",
      "    f.writelines(picklines(f1qual, linsz))\n",
      "f1qual.close()"
     ],
     "language": "python",
     "metadata": {},
     "outputs": [],
     "prompt_number": 56
    },
    {
     "cell_type": "markdown",
     "metadata": {},
     "source": [
      "## write into CSV"
     ]
    },
    {
     "cell_type": "code",
     "collapsed": false,
     "input": [
      "import xml.etree.ElementTree as ET\n",
      "import csv\n",
      "# regexps\n",
      "import re"
     ],
     "language": "python",
     "metadata": {},
     "outputs": [],
     "prompt_number": 60
    },
    {
     "cell_type": "code",
     "collapsed": false,
     "input": [
      "with open(homedir+'/output/2-qual/qual_data.txt', 'r') as ina:\n",
      "    lines = ina.readlines()\n",
      "    with open(homedir+'/output/2-qual/qual_data.csv', 'w') as f:\n",
      "        # get header:\n",
      "        firstrow = lines[0]\n",
      "        d0 = ET.ElementTree(ET.fromstring(firstrow)).getroot()\n",
      "        for node in d0.iter('data'):\n",
      "            b0=node.attrib\n",
      "            b0.update(d0.attrib)\n",
      "        f_csv = csv.DictWriter(f, b0.keys())\n",
      "        f_csv.writeheader()\n",
      "        # continue with rest of lines\n",
      "        for line in lines:\n",
      "            dd = ET.ElementTree(ET.fromstring(line)).getroot()\n",
      "            for node in dd.iter('data'):\n",
      "                b2 = node.attrib\n",
      "                b2.update(dd.attrib)\n",
      "                f_csv.writerow(b2)"
     ],
     "language": "python",
     "metadata": {},
     "outputs": [],
     "prompt_number": 62
    },
    {
     "cell_type": "code",
     "collapsed": false,
     "input": [],
     "language": "python",
     "metadata": {},
     "outputs": []
    }
   ],
   "metadata": {}
  }
 ]
}