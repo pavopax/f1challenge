{
 "metadata": {
  "name": "",
  "signature": "sha256:bca9dceb83796a3a9ee5afa48e39402295cae9c38c2514fea703e5ab0b149d3e"
 },
 "nbformat": 3,
 "nbformat_minor": 0,
 "worksheets": [
  {
   "cells": [
    {
     "cell_type": "markdown",
     "metadata": {},
     "source": [
      "## parsing F1 data to get into format usable in R\n",
      "## guides:    https://docs.python.org/2/library/xml.etree.elementtree.html\n",
      "\n",
      "# adapted to work line by line \n",
      "http://stackoverflow.com/questions/9004135/merge-multiple-xml-files-from-command-line \n",
      "http://stackoverflow.com/questions/647071/python-xml-elementtree-from-a-string-source\n",
      "\n",
      "\n",
      "## by Pawel github.com/pavopax"
     ]
    },
    {
     "cell_type": "markdown",
     "metadata": {},
     "source": []
    },
    {
     "cell_type": "markdown",
     "metadata": {},
     "source": [
      "## Each file contains one xml fragment per line\n",
      "#### 2 types of lines\n",
      "* cell status (has \"informationvalid\" string)\n",
      "* cell contents (actual cell data)"
     ]
    },
    {
     "cell_type": "markdown",
     "metadata": {},
     "source": [
      "## LIST of cell status updates\n",
      "\n",
      "http://palewi.re/posts/2008/04/05/python-recipe-open-a-file-read-through-it-print-each-line-matching-a-search-term/"
     ]
    },
    {
     "cell_type": "code",
     "collapsed": true,
     "input": [
      "import re\n",
      "f1practice = open(\"/Users/pawel/github/f1challenge/data/F1_Practice.txt\", \"r\")\n",
      "## print line matching string, using regexps\n",
      "for line in f1practice:\n",
      "    if re.match(\"(.*)informationvalid(.*)\", line):\n",
      "        print line"
     ],
     "language": "python",
     "metadata": {},
     "outputs": [
      {
       "output_type": "stream",
       "stream": "stdout",
       "text": [
        "<transaction identifier=\"101\" messagecount=\"9616\" timestamp=\"10:49:56.031\"><data informationvalid=\"true\" sessionstate=\"inactive\"/></transaction>\r\n",
        "\n",
        "<transaction identifier=\"103\" messagecount=\"10068\" timestamp=\"10:49:56.387\"><data informationvalid=\"true\"/></transaction>\r\n",
        "\n",
        "<transaction identifier=\"104\" messagecount=\"10120\" timestamp=\"10:49:56.407\"><data informationvalid=\"true\"/></transaction>\r\n",
        "\n",
        "<transaction identifier=\"101\" messagecount=\"10325\" timestamp=\"10:52:54.074\"><data informationvalid=\"true\" sessionstate=\"started\"/></transaction>\r\n",
        "\n",
        "<transaction identifier=\"103\" messagecount=\"10325\" timestamp=\"10:52:54.088\"><data informationvalid=\"true\"/></transaction>\r\n",
        "\n",
        "<transaction identifier=\"104\" messagecount=\"10325\" timestamp=\"10:52:54.097\"><data informationvalid=\"true\"/></transaction>\r\n",
        "\n",
        "<transaction identifier=\"101\" messagecount=\"42168\" timestamp=\"11:52:54.284\"><data informationvalid=\"true\" sessionstate=\"finished\"/></transaction>\r\n"
       ]
      },
      {
       "output_type": "stream",
       "stream": "stdout",
       "text": [
        "\n",
        "<transaction identifier=\"103\" messagecount=\"42168\" timestamp=\"11:52:54.290\"><data informationvalid=\"true\"/></transaction>\r\n",
        "\n",
        "<transaction identifier=\"104\" messagecount=\"42168\" timestamp=\"11:52:54.295\"><data informationvalid=\"true\"/></transaction>\r\n",
        "\n"
       ]
      }
     ],
     "prompt_number": 154
    },
    {
     "cell_type": "markdown",
     "metadata": {},
     "source": [
      "## parsing multiple lines\n",
      "### same type"
     ]
    },
    {
     "cell_type": "code",
     "collapsed": false,
     "input": [
      "import xml.etree.ElementTree as ET\n",
      "import csv\n",
      "from collections import OrderedDict\n",
      "# regexps\n",
      "import re"
     ],
     "language": "python",
     "metadata": {},
     "outputs": [],
     "prompt_number": 22
    },
    {
     "cell_type": "code",
     "collapsed": false,
     "input": [
      "homedir = '/Users/pawel/github/f1challenge'\n",
      "print dir"
     ],
     "language": "python",
     "metadata": {},
     "outputs": [
      {
       "output_type": "stream",
       "stream": "stdout",
       "text": [
        "['/Users/pawel/github/f1challenge/programs/1-xml-python']\n"
       ]
      }
     ],
     "prompt_number": 145
    },
    {
     "cell_type": "code",
     "collapsed": false,
     "input": [
      "names = open(homedir+\"/data/edited/names.xml\", \"r\")\n",
      "names_l = names.readlines()"
     ],
     "language": "python",
     "metadata": {},
     "outputs": [],
     "prompt_number": 147
    },
    {
     "cell_type": "code",
     "collapsed": false,
     "input": [
      "with open(homedir+'/output/test_names.csv', 'w') as f:\n",
      "    # for header, get keys in order (from unordered dict)\n",
      "    firstrow = names_l[0]\n",
      "    d0 = ET.ElementTree(ET.fromstring(firstrow)).getroot()\n",
      "    for node in d0.iter('data'):\n",
      "        b0=node.attrib\n",
      "        b0.update(d0.attrib)\n",
      "    f_csv = csv.DictWriter(f, b0.keys())\n",
      "    f_csv.writeheader()\n",
      "    # continue with lines\n",
      "    for line in names_l:\n",
      "        dd = ET.ElementTree(ET.fromstring(line)).getroot()\n",
      "        for node in dd.iter(\"data\"):\n",
      "            b2 = node.attrib\n",
      "            b2.update(dd.attrib)\n",
      "            f_csv.writerow(b2)"
     ],
     "language": "python",
     "metadata": {},
     "outputs": [],
     "prompt_number": 151
    },
    {
     "cell_type": "markdown",
     "metadata": {},
     "source": [
      "### different types of lines"
     ]
    },
    {
     "cell_type": "code",
     "collapsed": false,
     "input": [
      "multi = open(homedir+\"/data/edited/multiLine.xml\", \"r\")\n",
      "multi_l = multi.readlines()"
     ],
     "language": "python",
     "metadata": {},
     "outputs": [],
     "prompt_number": 153
    },
    {
     "cell_type": "code",
     "collapsed": true,
     "input": [
      "with open(homedir+\"output/test_multi.csv\", \"w\") as f:\n",
      "    # for header, get keys in order (from unordered dict)\n",
      "    firstrow = names_l[0]\n",
      "    d0 = ET.ElementTree(ET.fromstring(firstrow)).getroot()\n",
      "    for node in d0.iter('data'):\n",
      "        b0=node.attrib\n",
      "        b0.update(d0.attrib)\n",
      "    f_csv = csv.DictWriter(f, b0.keys())\n",
      "    f_csv.writeheader()\n",
      "    # continue with lines\n",
      "    # two types of cells (cell status and cell contents; see documentation)\n",
      "    for line in names_l:\n",
      "        # (1) cell status types\n",
      "        if re.match(\"(.*)informationvalid(.*)\", line):\n",
      "        etc-etc    \n",
      "            \n",
      "            \n",
      "        dd = ET.ElementTree(ET.fromstring(line)).getroot()\n",
      "        for node in dd.iter(\"data\"):\n",
      "            b2 = node.attrib\n",
      "            b2.update(dd.attrib)\n",
      "            f_csv.writerow(b2)"
     ],
     "language": "python",
     "metadata": {},
     "outputs": [
      {
       "ename": "IndentationError",
       "evalue": "expected an indented block (<ipython-input-155-485cb16c6a64>, line 15)",
       "output_type": "pyerr",
       "traceback": [
        "\u001b[0;36m  File \u001b[0;32m\"<ipython-input-155-485cb16c6a64>\"\u001b[0;36m, line \u001b[0;32m15\u001b[0m\n\u001b[0;31m    etc-etc\u001b[0m\n\u001b[0m      ^\u001b[0m\n\u001b[0;31mIndentationError\u001b[0m\u001b[0;31m:\u001b[0m expected an indented block\n"
       ]
      }
     ],
     "prompt_number": 155
    },
    {
     "cell_type": "code",
     "collapsed": false,
     "input": [],
     "language": "python",
     "metadata": {},
     "outputs": []
    },
    {
     "cell_type": "code",
     "collapsed": false,
     "input": [],
     "language": "python",
     "metadata": {},
     "outputs": []
    },
    {
     "cell_type": "code",
     "collapsed": false,
     "input": [],
     "language": "python",
     "metadata": {},
     "outputs": []
    },
    {
     "cell_type": "code",
     "collapsed": false,
     "input": [],
     "language": "python",
     "metadata": {},
     "outputs": []
    },
    {
     "cell_type": "code",
     "collapsed": false,
     "input": [],
     "language": "python",
     "metadata": {},
     "outputs": []
    },
    {
     "cell_type": "code",
     "collapsed": false,
     "input": [],
     "language": "python",
     "metadata": {},
     "outputs": []
    }
   ],
   "metadata": {}
  }
 ]
}